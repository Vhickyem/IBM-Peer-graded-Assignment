{
 "cells": [
  {
   "cell_type": "markdown",
   "id": "29dad0d9-11c2-447c-99e5-2cbfac872ee1",
   "metadata": {},
   "source": [
    "# My Jupyter Notebook on IBM Watson Studio"
   ]
  },
  {
   "cell_type": "markdown",
   "id": "1bb5c7dd-64b2-47b2-bfbe-74c708db4724",
   "metadata": {},
   "source": [
    "__Olayemi Victoria Oloyede__\n",
    "<br>Data Scientist"
   ]
  },
  {
   "cell_type": "markdown",
   "id": "b7897cee-e270-4538-b55e-0c5e0adba8b4",
   "metadata": {},
   "source": [
    "*I am interested in Data Science just because I want to help in Saving lives. I want to be able to use data to help in improving the diagnostic and treatment methods of our hospitals.*"
   ]
  },
  {
   "cell_type": "markdown",
   "id": "c2f935ad-5c17-4ea4-bba9-2146e8f27257",
   "metadata": {},
   "source": [
    "### Calculate Patient's Body Mass Index (BMI)"
   ]
  },
  {
   "cell_type": "code",
   "execution_count": 4,
   "id": "50097845-6ee9-400f-bfc3-1f54f7859a55",
   "metadata": {},
   "outputs": [
    {
     "data": {
      "text/plain": [
       "15.581717451523545"
      ]
     },
     "execution_count": 4,
     "metadata": {},
     "output_type": "execute_result"
    }
   ],
   "source": [
    "36/1.52**2"
   ]
  },
  {
   "cell_type": "markdown",
   "id": "1f162289-d2c7-4ff3-bb69-4e4e299c8186",
   "metadata": {},
   "source": [
    "#### Foods You need to eat to gain Weight\n",
    "* Cheese\n",
    "* Whole Grains like Rice\n",
    "* Yoghurt\n",
    "* Protein Shakes\n",
    "* Weight Gain Smoothies\n",
    "_____\n",
    "#### ~~People Near You Who Gained Weight~~\n",
    "|Name|Age|Former_Weight(kg)|New_Weight(kg)|\n",
    "|-----|-----|-----|-----|\n",
    "|Marie Davis|23|38|56|\n",
    "|Jonathan Illberg|26|40|55|\n",
    "|Gloria Hacky|18|36|45|\n",
    "|Hamman Sally|18|44|62|"
   ]
  },
  {
   "cell_type": "code",
   "execution_count": null,
   "id": "5cd2dcec-38c5-4e22-915b-67974e167357",
   "metadata": {},
   "outputs": [],
   "source": []
  }
 ],
 "metadata": {
  "kernelspec": {
   "display_name": "Python",
   "language": "python",
   "name": "conda-env-python-py"
  },
  "language_info": {
   "codemirror_mode": {
    "name": "ipython",
    "version": 3
   },
   "file_extension": ".py",
   "mimetype": "text/x-python",
   "name": "python",
   "nbconvert_exporter": "python",
   "pygments_lexer": "ipython3",
   "version": "3.7.12"
  }
 },
 "nbformat": 4,
 "nbformat_minor": 5
}
